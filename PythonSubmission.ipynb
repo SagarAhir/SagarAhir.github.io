{
  "nbformat": 4,
  "nbformat_minor": 0,
  "metadata": {
    "kernelspec": {
      "display_name": "Python 3",
      "language": "python",
      "name": "python3"
    },
    "language_info": {
      "codemirror_mode": {
        "name": "ipython",
        "version": 3
      },
      "file_extension": ".py",
      "mimetype": "text/x-python",
      "name": "python",
      "nbconvert_exporter": "python",
      "pygments_lexer": "ipython3",
      "version": "3.7.6"
    },
    "colab": {
      "name": "PythonSubmission.ipynb",
      "provenance": [],
      "collapsed_sections": [],
      "include_colab_link": true
    }
  },
  "cells": [
    {
      "cell_type": "markdown",
      "metadata": {
        "id": "view-in-github",
        "colab_type": "text"
      },
      "source": [
        "<a href=\"https://colab.research.google.com/github/SagarAhir/SagarAhir.github.io/blob/master/PythonSubmission.ipynb\" target=\"_parent\"><img src=\"https://colab.research.google.com/assets/colab-badge.svg\" alt=\"Open In Colab\"/></a>"
      ]
    },
    {
      "cell_type": "markdown",
      "metadata": {
        "id": "rBrGex1cHU7Y"
      },
      "source": [
        "## Q1: Write a program to print “Hello World”."
      ]
    },
    {
      "cell_type": "code",
      "metadata": {
        "id": "neneNrkDHU7Z",
        "outputId": "9bca7e62-4898-41a8-ffac-fb67f2c6284e",
        "colab": {
          "base_uri": "https://localhost:8080/"
        }
      },
      "source": [
        "print(\"Hello World\")"
      ],
      "execution_count": null,
      "outputs": [
        {
          "output_type": "stream",
          "text": [
            "Hello World\n"
          ],
          "name": "stdout"
        }
      ]
    },
    {
      "cell_type": "markdown",
      "metadata": {
        "id": "hHIpwtdqHU7h"
      },
      "source": [
        "## Q2: Write a program to input two integers and demonstrate basic the arithmetic operations on them."
      ]
    },
    {
      "cell_type": "code",
      "metadata": {
        "id": "5CtHYS5CHU7i",
        "outputId": "585bcd83-f736-4567-ae14-b011c07ed0df",
        "colab": {
          "base_uri": "https://localhost:8080/"
        }
      },
      "source": [
        "a = int(input(\"enter 1st integer: \"))\n",
        "b = int(input(\"enter 2nd integer: \"))\n",
        "print(\"a + b =\",a+b)\n",
        "print(\"a - b =\",a-b)\n",
        "print(\"a * b =\",a*b)\n",
        "print(\"a / b =\",a/b)"
      ],
      "execution_count": null,
      "outputs": [
        {
          "output_type": "stream",
          "text": [
            "enter 1st integer: 5\n",
            "enter 2nd integer: 6\n",
            "a + b = 11\n",
            "a - b = -1\n",
            "a * b = 30\n",
            "a / b = 0.8333333333333334\n"
          ],
          "name": "stdout"
        }
      ]
    },
    {
      "cell_type": "markdown",
      "metadata": {
        "id": "ZYyb0xtQHU7m"
      },
      "source": [
        "## Q3: Write a program to add two complex numbers."
      ]
    },
    {
      "cell_type": "code",
      "metadata": {
        "id": "67DCW9sqHU7n",
        "outputId": "7c3f28b3-2dcd-4e46-98fc-5617c68c37bd",
        "colab": {
          "base_uri": "https://localhost:8080/"
        }
      },
      "source": [
        "c = complex(1,2)\n",
        "d = complex(3,4)\n",
        "print(\"addition of complex numbers:\",c+d)\n"
      ],
      "execution_count": null,
      "outputs": [
        {
          "output_type": "stream",
          "text": [
            "addition of complex numbers: (4+6j)\n"
          ],
          "name": "stdout"
        }
      ]
    },
    {
      "cell_type": "markdown",
      "metadata": {
        "id": "RAmovsOsHU7u"
      },
      "source": [
        "## Q4: Write a program to use the functions trunc(),ceil() and floor() for an user inputted float value."
      ]
    },
    {
      "cell_type": "code",
      "metadata": {
        "id": "wqRp7EkkHU7v",
        "outputId": "f0868640-7453-4802-83d6-b9bf6b8c5685",
        "colab": {
          "base_uri": "https://localhost:8080/"
        }
      },
      "source": [
        "import math\n",
        "e = float(input(\"Enter 1st float value: \"))\n",
        "print(\"trunc():\",math.trunc(e))\n",
        "print(\"ceil():\",math.ceil(e))\n",
        "print(\"floor():\",math.floor(e))\n"
      ],
      "execution_count": null,
      "outputs": [
        {
          "output_type": "stream",
          "text": [
            "Enter 1st float value: 2.99\n",
            "trunc(): 2\n",
            "ceil(): 3\n",
            "floor(): 2\n"
          ],
          "name": "stdout"
        }
      ]
    },
    {
      "cell_type": "markdown",
      "metadata": {
        "id": "iSvkxnP8HU7z"
      },
      "source": [
        "## Q5: Write a program for generating 5 random numbers. Range value and seed value will be supplied by use"
      ]
    },
    {
      "cell_type": "code",
      "metadata": {
        "id": "nXVjwflZHU70",
        "outputId": "290d8cbc-9d6e-4687-a74c-6eacc96c78cb",
        "colab": {
          "base_uri": "https://localhost:8080/"
        }
      },
      "source": [
        "import random\n",
        "start = int(input(\"enter starting number: \"))\n",
        "end = int(input(\"enter ending number: \"))\n",
        "for i in range(5):\n",
        "    print(random.seed(3))\n",
        "    print(random.randint(start,end))\n",
        "    print(random.seed(1))\n"
      ],
      "execution_count": null,
      "outputs": [
        {
          "output_type": "stream",
          "text": [
            "enter starting number: 1\n",
            "enter ending number: 99\n",
            "None\n",
            "31\n",
            "None\n",
            "None\n",
            "31\n",
            "None\n",
            "None\n",
            "31\n",
            "None\n",
            "None\n",
            "31\n",
            "None\n",
            "None\n",
            "31\n",
            "None\n"
          ],
          "name": "stdout"
        }
      ]
    },
    {
      "cell_type": "markdown",
      "metadata": {
        "id": "CMrpSvbYHU74"
      },
      "source": [
        "## Q6: Write a program to perform all the operations on string."
      ]
    },
    {
      "cell_type": "code",
      "metadata": {
        "id": "zKnvfflNHU75",
        "outputId": "9ea0c9b9-6768-4f4b-e248-0575a207fe61",
        "colab": {
          "base_uri": "https://localhost:8080/"
        }
      },
      "source": [
        "a = \"python\"\n",
        "print(a.isalpha())\n",
        "print(a.isdigit())\n",
        "print(a.isalnum())\n",
        "print(a.lower())\n",
        "print(a.upper())\n",
        "print(a.startswith('p'))\n",
        "print(a.startswith('g'))\n",
        "print(a.endswith('n'))\n",
        "print(a.endswith('T'))\n",
        "print(a.find('t'))\n",
        "print(a.find('ho'))\n",
        "print(a.capitalize())\n",
        "print(a.swapcase())\n",
        "a = \"  python  \"\n",
        "print(a.lstrip())\n",
        "print(a.rstrip())\n"
      ],
      "execution_count": null,
      "outputs": [
        {
          "output_type": "stream",
          "text": [
            "True\n",
            "False\n",
            "True\n",
            "python\n",
            "PYTHON\n",
            "True\n",
            "False\n",
            "True\n",
            "False\n",
            "2\n",
            "3\n",
            "Python\n",
            "PYTHON\n",
            "python  \n",
            "  python\n"
          ],
          "name": "stdout"
        }
      ]
    },
    {
      "cell_type": "markdown",
      "metadata": {
        "id": "B2dwk8JkHU7_"
      },
      "source": [
        "## Q7: Write a program to perform all the operations on list."
      ]
    },
    {
      "cell_type": "code",
      "metadata": {
        "id": "h5ngI-m2HU7_",
        "outputId": "0643071f-d4a3-4ab7-e321-7aee0f50fda5",
        "colab": {
          "base_uri": "https://localhost:8080/"
        }
      },
      "source": [
        "lst = [\"ferrari\",\"bugatti\",\"lamborghini\",\"ford\",\"mclaren\"]\n",
        "print()\n",
        "print(lst)\n",
        "print(lst[1])\n",
        "print(lst[-2])\n",
        "print(lst[1:5])\n",
        "print(lst[:4])\n",
        "print(lst[2:])\n",
        "print(lst[-4:-1])\n",
        "lst[3] = \"hennesey\"\n",
        "print(lst)\n",
        "for i in lst:\n",
        "    print(i)\n",
        "if \"ferrari\" in lst:\n",
        "    print(\"ferrari is in list\")\n",
        "len(lst)\n",
        "lst.append(\"pagani\")\n",
        "lst.insert(1,\"porsche\")\n",
        "print(lst)\n",
        "lst.remove(\"mclaren\")\n",
        "print(lst)\n",
        "lst.pop()\n",
        "print(lst)\n",
        "del lst[2]\n",
        "print(lst.sort())\n"
      ],
      "execution_count": null,
      "outputs": [
        {
          "output_type": "stream",
          "text": [
            "\n",
            "['ferrari', 'bugatti', 'lamborghini', 'ford', 'mclaren']\n",
            "bugatti\n",
            "ford\n",
            "['bugatti', 'lamborghini', 'ford', 'mclaren']\n",
            "['ferrari', 'bugatti', 'lamborghini', 'ford']\n",
            "['lamborghini', 'ford', 'mclaren']\n",
            "['bugatti', 'lamborghini', 'ford']\n",
            "['ferrari', 'bugatti', 'lamborghini', 'hennesey', 'mclaren']\n",
            "ferrari\n",
            "bugatti\n",
            "lamborghini\n",
            "hennesey\n",
            "mclaren\n",
            "ferrari is in list\n",
            "['ferrari', 'porsche', 'bugatti', 'lamborghini', 'hennesey', 'mclaren', 'pagani']\n",
            "['ferrari', 'porsche', 'bugatti', 'lamborghini', 'hennesey', 'pagani']\n",
            "['ferrari', 'porsche', 'bugatti', 'lamborghini', 'hennesey']\n",
            "None\n"
          ],
          "name": "stdout"
        }
      ]
    },
    {
      "cell_type": "markdown",
      "metadata": {
        "id": "_JXwEpvmHU8E"
      },
      "source": [
        "## Q8: Write a program to perform all the operations on tuple."
      ]
    },
    {
      "cell_type": "code",
      "metadata": {
        "id": "6cApOWc-HU8E",
        "outputId": "01e612b9-67d3-4f62-eddd-916bc2ff62f5",
        "colab": {
          "base_uri": "https://localhost:8080/"
        }
      },
      "source": [
        "tpl = (\"apple\", \"banana\", \"cherry\", \"orange\", \"kiwi\", \"melon\", \"mango\")\n",
        "print(tpl)\n",
        "print(tpl[1])\n",
        "print(tpl[-1])\n",
        "print(tpl[2:4])\n",
        "print(tpl[-4:-2])\n",
        "\n",
        "y = list(tpl)\n",
        "y[1] = \"kiwi\"\n",
        "x = tuple(y)\n",
        "print(x) \n",
        "\n",
        "for i in tpl:\n",
        "    print(i)\n",
        "\n",
        "if \"banana\" in tpl:\n",
        "    print(\"banana is in tuple\")\n",
        "else:\n",
        "    print(\"banana is not in tuple\")\n",
        "\n",
        "print(len(tpl))\n",
        "\n",
        "del x\n",
        "\n",
        "tuple1 = (\"a\", \"b\" , \"c\")\n",
        "tuple2 = (1, 2, 3)\n",
        "tuple3 = tuple1 + tuple2\n",
        "print(tuple3)\n",
        " \n"
      ],
      "execution_count": null,
      "outputs": [
        {
          "output_type": "stream",
          "text": [
            "('apple', 'banana', 'cherry', 'orange', 'kiwi', 'melon', 'mango')\n",
            "banana\n",
            "mango\n",
            "('cherry', 'orange')\n",
            "('orange', 'kiwi')\n",
            "('apple', 'kiwi', 'cherry', 'orange', 'kiwi', 'melon', 'mango')\n",
            "apple\n",
            "banana\n",
            "cherry\n",
            "orange\n",
            "kiwi\n",
            "melon\n",
            "mango\n",
            "banana is in tuple\n",
            "7\n",
            "('a', 'b', 'c', 1, 2, 3)\n"
          ],
          "name": "stdout"
        }
      ]
    },
    {
      "cell_type": "markdown",
      "metadata": {
        "id": "qZyQ8N9iHU8I"
      },
      "source": [
        "## Q9: Write a program to perform all the operations on set."
      ]
    },
    {
      "cell_type": "code",
      "metadata": {
        "id": "NT3CocVXHU8J",
        "outputId": "6603faa6-2fba-458d-d372-0776d425cd9c",
        "colab": {
          "base_uri": "https://localhost:8080/"
        }
      },
      "source": [
        "thisset = {\"apple\", \"banana\", \"cherry\"}\n",
        "print(thisset) \n",
        "\n",
        "for x in thisset:\n",
        "    print(x)\n",
        "\n",
        "print(\"banana\" in thisset) \n",
        "\n",
        "thisset.add(\"orange\")\n",
        "print(thisset)\n",
        "\n",
        "thisset.update([\"orange\", \"mango\", \"grapes\"])\n",
        "print(thisset)\n",
        "\n",
        "print(len(thisset)) \n",
        " \n",
        "thisset.remove(\"banana\")\n",
        "print(thisset)\n",
        "\n",
        "thisset.add(\"banana\")\n",
        "print(thisset)\n",
        "thisset.discard(\"banana\")\n",
        "print(thisset)\n",
        "\n",
        "x = thisset.pop()\n",
        "print(x)\n",
        "print(thisset)\n",
        "\n",
        "set1 = {\"a\", \"b\" , \"c\"}\n",
        "set2 = {1, 2, 3}\n",
        "\n",
        "set3 = set1.union(set2)\n",
        "print(set3)\n",
        "\n",
        "set1.update(set2)\n",
        "print(set1)\n"
      ],
      "execution_count": null,
      "outputs": [
        {
          "output_type": "stream",
          "text": [
            "{'banana', 'apple', 'cherry'}\n",
            "banana\n",
            "apple\n",
            "cherry\n",
            "True\n",
            "{'banana', 'apple', 'cherry', 'orange'}\n",
            "{'banana', 'mango', 'cherry', 'orange', 'grapes', 'apple'}\n",
            "6\n",
            "{'mango', 'cherry', 'orange', 'grapes', 'apple'}\n",
            "{'banana', 'mango', 'cherry', 'orange', 'grapes', 'apple'}\n",
            "{'mango', 'cherry', 'orange', 'grapes', 'apple'}\n",
            "mango\n",
            "{'cherry', 'orange', 'grapes', 'apple'}\n",
            "{1, 2, 'c', 3, 'a', 'b'}\n",
            "{1, 2, 'c', 3, 'a', 'b'}\n"
          ],
          "name": "stdout"
        }
      ]
    },
    {
      "cell_type": "markdown",
      "metadata": {
        "id": "FEavd4G3HU8N"
      },
      "source": [
        "## Q10: Write program to experiment on different comprehensions on list, set and dictionary."
      ]
    },
    {
      "cell_type": "code",
      "metadata": {
        "id": "LiCxIr5UHU8O",
        "outputId": "24c0aa4e-78bc-476a-f8ca-c66c31e0cde3",
        "colab": {
          "base_uri": "https://localhost:8080/"
        }
      },
      "source": [
        "input_list = [1, 2, 3, 4, 4, 5, 6, 7, 7] \n",
        "  \n",
        "list_using_comp = [var for var in input_list if var % 2 == 0] \n",
        "print(\"Output List using list comprehensions:\", list_using_comp)\n",
        "\n",
        "list_using_comp1 = [var**2 for var in range(1, 10)] \n",
        "print(\"Output List using list comprehension:\",  list_using_comp1)\n",
        "   \n",
        "dict_using_comp = {var:var ** 3 for var in input_list if var % 2 != 0}  \n",
        "print(\"Output Dictionary using dictionary comprehensions:\", dict_using_comp)\n",
        "\n",
        "state = ['Gujarat', 'Maharashtra', 'Rajasthan'] \n",
        "capital = ['Gandhinagar', 'Mumbai', 'Jaipur']   \n",
        "dict_using_comp = {key:value for (key, value) in zip(state, capital)} \n",
        "print(\"Output Dictionary using dictionary comprehensions:\", dict_using_comp)\n",
        "\n",
        "set_using_comp = {var for var in input_list if var % 2 == 0} \n",
        "print(\"Output Set using set comprehensions:\", set_using_comp)\n",
        "\n",
        "set_using_comp1 = {var**2 for var in range(10)} \n",
        "print(\"Output Set using set comprehensions:\", set_using_comp1)"
      ],
      "execution_count": null,
      "outputs": [
        {
          "output_type": "stream",
          "text": [
            "Output List using list comprehensions: [2, 4, 4, 6]\n",
            "Output List using list comprehension: [1, 4, 9, 16, 25, 36, 49, 64, 81]\n",
            "Output Dictionary using dictionary comprehensions: {1: 1, 3: 27, 5: 125, 7: 343}\n",
            "Output Dictionary using dictionary comprehensions: {'Gujarat': 'Gandhinagar', 'Maharashtra': 'Mumbai', 'Rajasthan': 'Jaipur'}\n",
            "Output Set using set comprehensions: {2, 4, 6}\n",
            "Output Set using set comprehensions: {0, 1, 64, 4, 36, 9, 16, 49, 81, 25}\n"
          ],
          "name": "stdout"
        }
      ]
    },
    {
      "cell_type": "markdown",
      "metadata": {
        "id": "GQtawjQrHU8S"
      },
      "source": [
        "## Q12: Write a program that reads a .csv dataset file using Pandas library and display the following content of the dataset.\n",
        "a) First three rows of the dataset\n",
        "b) Fill missing  data of the dataset\n",
        "c) Summary or metadata of the dataset\n"
      ]
    },
    {
      "cell_type": "code",
      "metadata": {
        "id": "qqdXipjpHU8T",
        "outputId": "5c705a3d-1426-43e1-9951-6ae831c2215f",
        "colab": {
          "base_uri": "https://localhost:8080/"
        }
      },
      "source": [
        "import pandas as pd\n",
        "import numpy as np \n",
        "file = pd.read_csv(\"sample.csv\")\n",
        "#a) First three rows of the dataset\n",
        "print(file.iloc[:3])\n",
        "  \n",
        "dict = {'First Score':[100, 90, np.nan, 95], \n",
        "        'Second Score': [30, 45, 56, np.nan], \n",
        "        'Third Score':[20, 40, 80, 98]} \n",
        "  \n",
        "df = pd.DataFrame(dict) \n",
        "#b) Fill missing data of the dataset\n",
        "df.fillna(method ='pad')\n",
        "print()\n",
        "#c) Summary or metadata of the dataset\n",
        "print(df.info())"
      ],
      "execution_count": null,
      "outputs": [
        {
          "output_type": "stream",
          "text": [
            "                                      Name  ...        Genre\n",
            "0            10-Day Green Smoothie Cleanse  ...  Non Fiction\n",
            "1                        11/22/63: A Novel  ...      Fiction\n",
            "2  12 Rules for Life: An Antidote to Chaos  ...  Non Fiction\n",
            "\n",
            "[3 rows x 7 columns]\n",
            "\n",
            "<class 'pandas.core.frame.DataFrame'>\n",
            "RangeIndex: 4 entries, 0 to 3\n",
            "Data columns (total 3 columns):\n",
            " #   Column        Non-Null Count  Dtype  \n",
            "---  ------        --------------  -----  \n",
            " 0   First Score   3 non-null      float64\n",
            " 1   Second Score  3 non-null      float64\n",
            " 2   Third Score   4 non-null      int64  \n",
            "dtypes: float64(2), int64(1)\n",
            "memory usage: 224.0 bytes\n",
            "None\n"
          ],
          "name": "stdout"
        }
      ]
    },
    {
      "cell_type": "markdown",
      "metadata": {
        "id": "_PLbhKmrHU8X"
      },
      "source": [
        "## Q13: Write a program that shows application of slicing and dicing over the raws and columns of the dataset."
      ]
    },
    {
      "cell_type": "code",
      "metadata": {
        "id": "kJuwBkdMHU8Y",
        "outputId": "bcb919fc-43d9-4a12-e7a3-b642dc07005c",
        "colab": {
          "base_uri": "https://localhost:8080/",
          "height": 136
        }
      },
      "source": [
        "df.iloc[0:3, 0:5]"
      ],
      "execution_count": null,
      "outputs": [
        {
          "output_type": "execute_result",
          "data": {
            "text/html": [
              "<div>\n",
              "<style scoped>\n",
              "    .dataframe tbody tr th:only-of-type {\n",
              "        vertical-align: middle;\n",
              "    }\n",
              "\n",
              "    .dataframe tbody tr th {\n",
              "        vertical-align: top;\n",
              "    }\n",
              "\n",
              "    .dataframe thead th {\n",
              "        text-align: right;\n",
              "    }\n",
              "</style>\n",
              "<table border=\"1\" class=\"dataframe\">\n",
              "  <thead>\n",
              "    <tr style=\"text-align: right;\">\n",
              "      <th></th>\n",
              "      <th>First Score</th>\n",
              "      <th>Second Score</th>\n",
              "      <th>Third Score</th>\n",
              "    </tr>\n",
              "  </thead>\n",
              "  <tbody>\n",
              "    <tr>\n",
              "      <th>0</th>\n",
              "      <td>100.0</td>\n",
              "      <td>30.0</td>\n",
              "      <td>NaN</td>\n",
              "    </tr>\n",
              "    <tr>\n",
              "      <th>1</th>\n",
              "      <td>90.0</td>\n",
              "      <td>45.0</td>\n",
              "      <td>40.0</td>\n",
              "    </tr>\n",
              "    <tr>\n",
              "      <th>2</th>\n",
              "      <td>NaN</td>\n",
              "      <td>56.0</td>\n",
              "      <td>80.0</td>\n",
              "    </tr>\n",
              "  </tbody>\n",
              "</table>\n",
              "</div>"
            ],
            "text/plain": [
              "   First Score  Second Score  Third Score\n",
              "0        100.0          30.0          NaN\n",
              "1         90.0          45.0         40.0\n",
              "2          NaN          56.0         80.0"
            ]
          },
          "metadata": {
            "tags": []
          },
          "execution_count": 42
        }
      ]
    },
    {
      "cell_type": "code",
      "metadata": {
        "id": "7J1p7kieHU8d",
        "outputId": "a3a57540-f2c9-431a-906f-56605443c813",
        "colab": {
          "base_uri": "https://localhost:8080/",
          "height": 136
        }
      },
      "source": [
        "df[0:3]"
      ],
      "execution_count": null,
      "outputs": [
        {
          "output_type": "execute_result",
          "data": {
            "text/html": [
              "<div>\n",
              "<style scoped>\n",
              "    .dataframe tbody tr th:only-of-type {\n",
              "        vertical-align: middle;\n",
              "    }\n",
              "\n",
              "    .dataframe tbody tr th {\n",
              "        vertical-align: top;\n",
              "    }\n",
              "\n",
              "    .dataframe thead th {\n",
              "        text-align: right;\n",
              "    }\n",
              "</style>\n",
              "<table border=\"1\" class=\"dataframe\">\n",
              "  <thead>\n",
              "    <tr style=\"text-align: right;\">\n",
              "      <th></th>\n",
              "      <th>First Score</th>\n",
              "      <th>Second Score</th>\n",
              "      <th>Third Score</th>\n",
              "    </tr>\n",
              "  </thead>\n",
              "  <tbody>\n",
              "    <tr>\n",
              "      <th>0</th>\n",
              "      <td>100.0</td>\n",
              "      <td>30.0</td>\n",
              "      <td>NaN</td>\n",
              "    </tr>\n",
              "    <tr>\n",
              "      <th>1</th>\n",
              "      <td>90.0</td>\n",
              "      <td>45.0</td>\n",
              "      <td>40.0</td>\n",
              "    </tr>\n",
              "    <tr>\n",
              "      <th>2</th>\n",
              "      <td>NaN</td>\n",
              "      <td>56.0</td>\n",
              "      <td>80.0</td>\n",
              "    </tr>\n",
              "  </tbody>\n",
              "</table>\n",
              "</div>"
            ],
            "text/plain": [
              "   First Score  Second Score  Third Score\n",
              "0        100.0          30.0          NaN\n",
              "1         90.0          45.0         40.0\n",
              "2          NaN          56.0         80.0"
            ]
          },
          "metadata": {
            "tags": []
          },
          "execution_count": 43
        }
      ]
    },
    {
      "cell_type": "code",
      "metadata": {
        "id": "7YBPf2yPvrNe",
        "outputId": "32c5d942-124e-44de-f55e-bf6e4acce8d0",
        "colab": {
          "base_uri": "https://localhost:8080/",
          "height": 166
        }
      },
      "source": [
        "df.loc[0:4]"
      ],
      "execution_count": null,
      "outputs": [
        {
          "output_type": "execute_result",
          "data": {
            "text/html": [
              "<div>\n",
              "<style scoped>\n",
              "    .dataframe tbody tr th:only-of-type {\n",
              "        vertical-align: middle;\n",
              "    }\n",
              "\n",
              "    .dataframe tbody tr th {\n",
              "        vertical-align: top;\n",
              "    }\n",
              "\n",
              "    .dataframe thead th {\n",
              "        text-align: right;\n",
              "    }\n",
              "</style>\n",
              "<table border=\"1\" class=\"dataframe\">\n",
              "  <thead>\n",
              "    <tr style=\"text-align: right;\">\n",
              "      <th></th>\n",
              "      <th>First Score</th>\n",
              "      <th>Second Score</th>\n",
              "      <th>Third Score</th>\n",
              "    </tr>\n",
              "  </thead>\n",
              "  <tbody>\n",
              "    <tr>\n",
              "      <th>0</th>\n",
              "      <td>100.0</td>\n",
              "      <td>30.0</td>\n",
              "      <td>NaN</td>\n",
              "    </tr>\n",
              "    <tr>\n",
              "      <th>1</th>\n",
              "      <td>90.0</td>\n",
              "      <td>45.0</td>\n",
              "      <td>40.0</td>\n",
              "    </tr>\n",
              "    <tr>\n",
              "      <th>2</th>\n",
              "      <td>NaN</td>\n",
              "      <td>56.0</td>\n",
              "      <td>80.0</td>\n",
              "    </tr>\n",
              "    <tr>\n",
              "      <th>3</th>\n",
              "      <td>95.0</td>\n",
              "      <td>NaN</td>\n",
              "      <td>98.0</td>\n",
              "    </tr>\n",
              "  </tbody>\n",
              "</table>\n",
              "</div>"
            ],
            "text/plain": [
              "   First Score  Second Score  Third Score\n",
              "0        100.0          30.0          NaN\n",
              "1         90.0          45.0         40.0\n",
              "2          NaN          56.0         80.0\n",
              "3         95.0           NaN         98.0"
            ]
          },
          "metadata": {
            "tags": []
          },
          "execution_count": 44
        }
      ]
    },
    {
      "cell_type": "markdown",
      "metadata": {
        "id": "juSGWvuu3rEC"
      },
      "source": [
        "##Q14: Write a program that shows usage of aggregate function over the input dataset.a) describe b) max c) min d) mean e) median f) count g) std h) Corr\n"
      ]
    },
    {
      "cell_type": "code",
      "metadata": {
        "id": "viWp1RDo3vdI"
      },
      "source": [
        "df.dropna(inplace = True)  \n",
        "  \n",
        "perc =[.20, .40, .60, .80] \n",
        "include =['object', 'float', 'int'] "
      ],
      "execution_count": null,
      "outputs": []
    },
    {
      "cell_type": "code",
      "metadata": {
        "id": "AL57Hksw4mNS",
        "outputId": "b5f7c5c4-77f8-4d8f-fe87-f42c0554d2e1",
        "colab": {
          "base_uri": "https://localhost:8080/",
          "height": 343
        }
      },
      "source": [
        "df.describe(percentiles = perc, include = include)"
      ],
      "execution_count": null,
      "outputs": [
        {
          "output_type": "execute_result",
          "data": {
            "text/html": [
              "<div>\n",
              "<style scoped>\n",
              "    .dataframe tbody tr th:only-of-type {\n",
              "        vertical-align: middle;\n",
              "    }\n",
              "\n",
              "    .dataframe tbody tr th {\n",
              "        vertical-align: top;\n",
              "    }\n",
              "\n",
              "    .dataframe thead th {\n",
              "        text-align: right;\n",
              "    }\n",
              "</style>\n",
              "<table border=\"1\" class=\"dataframe\">\n",
              "  <thead>\n",
              "    <tr style=\"text-align: right;\">\n",
              "      <th></th>\n",
              "      <th>First Score</th>\n",
              "      <th>Second Score</th>\n",
              "      <th>Third Score</th>\n",
              "    </tr>\n",
              "  </thead>\n",
              "  <tbody>\n",
              "    <tr>\n",
              "      <th>count</th>\n",
              "      <td>1.0</td>\n",
              "      <td>1.0</td>\n",
              "      <td>1.0</td>\n",
              "    </tr>\n",
              "    <tr>\n",
              "      <th>mean</th>\n",
              "      <td>90.0</td>\n",
              "      <td>45.0</td>\n",
              "      <td>40.0</td>\n",
              "    </tr>\n",
              "    <tr>\n",
              "      <th>std</th>\n",
              "      <td>NaN</td>\n",
              "      <td>NaN</td>\n",
              "      <td>NaN</td>\n",
              "    </tr>\n",
              "    <tr>\n",
              "      <th>min</th>\n",
              "      <td>90.0</td>\n",
              "      <td>45.0</td>\n",
              "      <td>40.0</td>\n",
              "    </tr>\n",
              "    <tr>\n",
              "      <th>20%</th>\n",
              "      <td>90.0</td>\n",
              "      <td>45.0</td>\n",
              "      <td>40.0</td>\n",
              "    </tr>\n",
              "    <tr>\n",
              "      <th>40%</th>\n",
              "      <td>90.0</td>\n",
              "      <td>45.0</td>\n",
              "      <td>40.0</td>\n",
              "    </tr>\n",
              "    <tr>\n",
              "      <th>50%</th>\n",
              "      <td>90.0</td>\n",
              "      <td>45.0</td>\n",
              "      <td>40.0</td>\n",
              "    </tr>\n",
              "    <tr>\n",
              "      <th>60%</th>\n",
              "      <td>90.0</td>\n",
              "      <td>45.0</td>\n",
              "      <td>40.0</td>\n",
              "    </tr>\n",
              "    <tr>\n",
              "      <th>80%</th>\n",
              "      <td>90.0</td>\n",
              "      <td>45.0</td>\n",
              "      <td>40.0</td>\n",
              "    </tr>\n",
              "    <tr>\n",
              "      <th>max</th>\n",
              "      <td>90.0</td>\n",
              "      <td>45.0</td>\n",
              "      <td>40.0</td>\n",
              "    </tr>\n",
              "  </tbody>\n",
              "</table>\n",
              "</div>"
            ],
            "text/plain": [
              "       First Score  Second Score  Third Score\n",
              "count          1.0           1.0          1.0\n",
              "mean          90.0          45.0         40.0\n",
              "std            NaN           NaN          NaN\n",
              "min           90.0          45.0         40.0\n",
              "20%           90.0          45.0         40.0\n",
              "40%           90.0          45.0         40.0\n",
              "50%           90.0          45.0         40.0\n",
              "60%           90.0          45.0         40.0\n",
              "80%           90.0          45.0         40.0\n",
              "max           90.0          45.0         40.0"
            ]
          },
          "metadata": {
            "tags": []
          },
          "execution_count": 49
        }
      ]
    },
    {
      "cell_type": "code",
      "metadata": {
        "id": "2ScvrISC4tlM",
        "outputId": "615c5696-68b0-4030-be5d-19e94661506f",
        "colab": {
          "base_uri": "https://localhost:8080/"
        }
      },
      "source": [
        "df.max(axis = 0)"
      ],
      "execution_count": null,
      "outputs": [
        {
          "output_type": "execute_result",
          "data": {
            "text/plain": [
              "First Score     90.0\n",
              "Second Score    45.0\n",
              "Third Score     40.0\n",
              "dtype: float64"
            ]
          },
          "metadata": {
            "tags": []
          },
          "execution_count": 50
        }
      ]
    },
    {
      "cell_type": "code",
      "metadata": {
        "id": "kIE_dD1h4zf1",
        "outputId": "84f9e1c0-2537-4760-e742-f9cad9316b00",
        "colab": {
          "base_uri": "https://localhost:8080/"
        }
      },
      "source": [
        "df.mean(axis = 0)"
      ],
      "execution_count": null,
      "outputs": [
        {
          "output_type": "execute_result",
          "data": {
            "text/plain": [
              "First Score     90.0\n",
              "Second Score    45.0\n",
              "Third Score     40.0\n",
              "dtype: float64"
            ]
          },
          "metadata": {
            "tags": []
          },
          "execution_count": 51
        }
      ]
    },
    {
      "cell_type": "code",
      "metadata": {
        "id": "VXpL3XvT416v",
        "outputId": "c1df4776-0310-4de5-c1da-969305252320",
        "colab": {
          "base_uri": "https://localhost:8080/"
        }
      },
      "source": [
        "df.median(axis = 0)"
      ],
      "execution_count": null,
      "outputs": [
        {
          "output_type": "execute_result",
          "data": {
            "text/plain": [
              "First Score     90.0\n",
              "Second Score    45.0\n",
              "Third Score     40.0\n",
              "dtype: float64"
            ]
          },
          "metadata": {
            "tags": []
          },
          "execution_count": 52
        }
      ]
    },
    {
      "cell_type": "code",
      "metadata": {
        "id": "5loPsKKZ44jk",
        "outputId": "4aa41478-98f9-4b54-be36-6bd0495bf0eb",
        "colab": {
          "base_uri": "https://localhost:8080/"
        }
      },
      "source": [
        "df.count(axis = 0)"
      ],
      "execution_count": null,
      "outputs": [
        {
          "output_type": "execute_result",
          "data": {
            "text/plain": [
              "First Score     1\n",
              "Second Score    1\n",
              "Third Score     1\n",
              "dtype: int64"
            ]
          },
          "metadata": {
            "tags": []
          },
          "execution_count": 53
        }
      ]
    },
    {
      "cell_type": "code",
      "metadata": {
        "id": "n9MCuPXx48Iu",
        "outputId": "f1b46caa-f7e1-4210-ee9d-f3408d470b19",
        "colab": {
          "base_uri": "https://localhost:8080/"
        }
      },
      "source": [
        "df['Third Score'].std()"
      ],
      "execution_count": null,
      "outputs": [
        {
          "output_type": "execute_result",
          "data": {
            "text/plain": [
              "35.79106033634656"
            ]
          },
          "metadata": {
            "tags": []
          },
          "execution_count": 57
        }
      ]
    },
    {
      "cell_type": "code",
      "metadata": {
        "id": "7Ru72pBQ4-fO",
        "outputId": "8739124e-b44a-4d33-9734-31b711519d5a",
        "colab": {
          "base_uri": "https://localhost:8080/",
          "height": 136
        }
      },
      "source": [
        "df.corr(method ='spearman')"
      ],
      "execution_count": null,
      "outputs": [
        {
          "output_type": "execute_result",
          "data": {
            "text/html": [
              "<div>\n",
              "<style scoped>\n",
              "    .dataframe tbody tr th:only-of-type {\n",
              "        vertical-align: middle;\n",
              "    }\n",
              "\n",
              "    .dataframe tbody tr th {\n",
              "        vertical-align: top;\n",
              "    }\n",
              "\n",
              "    .dataframe thead th {\n",
              "        text-align: right;\n",
              "    }\n",
              "</style>\n",
              "<table border=\"1\" class=\"dataframe\">\n",
              "  <thead>\n",
              "    <tr style=\"text-align: right;\">\n",
              "      <th></th>\n",
              "      <th>First Score</th>\n",
              "      <th>Second Score</th>\n",
              "      <th>Third Score</th>\n",
              "    </tr>\n",
              "  </thead>\n",
              "  <tbody>\n",
              "    <tr>\n",
              "      <th>First Score</th>\n",
              "      <td>1.0</td>\n",
              "      <td>-1.0</td>\n",
              "      <td>-0.5</td>\n",
              "    </tr>\n",
              "    <tr>\n",
              "      <th>Second Score</th>\n",
              "      <td>-1.0</td>\n",
              "      <td>1.0</td>\n",
              "      <td>1.0</td>\n",
              "    </tr>\n",
              "    <tr>\n",
              "      <th>Third Score</th>\n",
              "      <td>-0.5</td>\n",
              "      <td>1.0</td>\n",
              "      <td>1.0</td>\n",
              "    </tr>\n",
              "  </tbody>\n",
              "</table>\n",
              "</div>"
            ],
            "text/plain": [
              "              First Score  Second Score  Third Score\n",
              "First Score           1.0          -1.0         -0.5\n",
              "Second Score         -1.0           1.0          1.0\n",
              "Third Score          -0.5           1.0          1.0"
            ]
          },
          "metadata": {
            "tags": []
          },
          "execution_count": 58
        }
      ]
    },
    {
      "cell_type": "markdown",
      "metadata": {
        "id": "_ddrX7Wp5dAo"
      },
      "source": [
        "##Q15: Write a program that shows usage of following NumPy array operations:\n",
        "#a) any()  b) all()   c) isnan() d) isinf() e) isfinite() f) isinf() g) zeros() h) isreal() i) iscomplex() j) isscalar() k) less() l) greater() m) less_equal() o) greater_equal()\n",
        "\n"
      ]
    },
    {
      "cell_type": "code",
      "metadata": {
        "id": "vQeJQHTP7DKP",
        "outputId": "bafbfd19-a113-41fc-9fe8-312984d5ad55",
        "colab": {
          "base_uri": "https://localhost:8080/"
        }
      },
      "source": [
        "print(np.any([[True,False],[True,True]]))"
      ],
      "execution_count": null,
      "outputs": [
        {
          "output_type": "stream",
          "text": [
            "True\n"
          ],
          "name": "stdout"
        }
      ]
    },
    {
      "cell_type": "code",
      "metadata": {
        "id": "4ntAd7dp7K3Y",
        "outputId": "7113185e-054c-49c5-abae-829a93530e99",
        "colab": {
          "base_uri": "https://localhost:8080/"
        }
      },
      "source": [
        "print(np.all([1.0, np.nan]))"
      ],
      "execution_count": null,
      "outputs": [
        {
          "output_type": "stream",
          "text": [
            "True\n"
          ],
          "name": "stdout"
        }
      ]
    },
    {
      "cell_type": "code",
      "metadata": {
        "id": "F2gyU24c7OgJ",
        "outputId": "a1350c55-0bf0-4256-b559-6264c9b44c54",
        "colab": {
          "base_uri": "https://localhost:8080/"
        }
      },
      "source": [
        "b = [[1j],  \n",
        "     [np.nan]] \n",
        "print(\"\\nIs NaN(Not a Number) : \\n\", np.isnan(b))"
      ],
      "execution_count": null,
      "outputs": [
        {
          "output_type": "stream",
          "text": [
            "\n",
            "Is NaN(Not a Number) : \n",
            " [[False]\n",
            " [ True]]\n"
          ],
          "name": "stdout"
        }
      ]
    },
    {
      "cell_type": "code",
      "metadata": {
        "id": "xZXyX2FF7RiX",
        "outputId": "f8ce4b2f-64a1-4114-9bc9-769da162591a",
        "colab": {
          "base_uri": "https://localhost:8080/"
        }
      },
      "source": [
        "print(\"Finite : \", np.isinf(np.inf))"
      ],
      "execution_count": null,
      "outputs": [
        {
          "output_type": "stream",
          "text": [
            "Finite :  True\n"
          ],
          "name": "stdout"
        }
      ]
    },
    {
      "cell_type": "code",
      "metadata": {
        "id": "pNhB3fBk7Vsh",
        "outputId": "de5a5753-d75f-430c-9378-75b0362120eb",
        "colab": {
          "base_uri": "https://localhost:8080/"
        }
      },
      "source": [
        "print(\"Finite : \", np.isfinite(np.inf))"
      ],
      "execution_count": null,
      "outputs": [
        {
          "output_type": "stream",
          "text": [
            "Finite :  False\n"
          ],
          "name": "stdout"
        }
      ]
    },
    {
      "cell_type": "code",
      "metadata": {
        "id": "UoQkv8Y67ZGb",
        "outputId": "8e336f8c-a59c-4bbe-c5e3-474892abeb43",
        "colab": {
          "base_uri": "https://localhost:8080/"
        }
      },
      "source": [
        "a = np.zeros([2, 2], dtype = int) \n",
        "print(\"\\nMatrix a : \\n\", a)"
      ],
      "execution_count": null,
      "outputs": [
        {
          "output_type": "stream",
          "text": [
            "\n",
            "Matrix a : \n",
            " [[0 0]\n",
            " [0 0]]\n"
          ],
          "name": "stdout"
        }
      ]
    },
    {
      "cell_type": "code",
      "metadata": {
        "id": "nUVR_8rT7b3I",
        "outputId": "0470ed5c-4389-43e0-d7cc-382e909b2fac",
        "colab": {
          "base_uri": "https://localhost:8080/"
        }
      },
      "source": [
        "a = np.arange(20).reshape(5, 4).dtype = float\n",
        "print(\"\\nIs Real : \", np.isreal(a))"
      ],
      "execution_count": null,
      "outputs": [
        {
          "output_type": "stream",
          "text": [
            "\n",
            "Is Real :  False\n"
          ],
          "name": "stdout"
        }
      ]
    },
    {
      "cell_type": "code",
      "metadata": {
        "id": "XiOY0MfX7eXs",
        "outputId": "b9589a06-6fb3-47ed-9875-c90ab4fc2d80",
        "colab": {
          "base_uri": "https://localhost:8080/"
        }
      },
      "source": [
        "print(\"Is Complex : \", np.iscomplex([1+1j, 1+0j]))"
      ],
      "execution_count": null,
      "outputs": [
        {
          "output_type": "stream",
          "text": [
            "Is Complex :  [ True False]\n"
          ],
          "name": "stdout"
        }
      ]
    },
    {
      "cell_type": "code",
      "metadata": {
        "id": "hxoQbdWg7gO-",
        "outputId": "4c8f3125-d4d8-4605-d628-319139abcb79",
        "colab": {
          "base_uri": "https://localhost:8080/"
        }
      },
      "source": [
        "print (\"\\nisscalar(7) : \", np.isscalar(7))"
      ],
      "execution_count": null,
      "outputs": [
        {
          "output_type": "stream",
          "text": [
            "\n",
            "isscalar(7) :  True\n"
          ],
          "name": "stdout"
        }
      ]
    },
    {
      "cell_type": "code",
      "metadata": {
        "id": "sPaQFPhk7iB9",
        "outputId": "4f67b697-72f4-4113-f2df-76499f25540a",
        "colab": {
          "base_uri": "https://localhost:8080/"
        }
      },
      "source": [
        "a = np.array([1.1, 1]) \n",
        "b = np.array([1, 2])\n",
        "d  = np.less(a, b) \n",
        "print(\"Comparing float with int using  .less() : \", d)"
      ],
      "execution_count": null,
      "outputs": [
        {
          "output_type": "stream",
          "text": [
            "Comparing float with int using  .less() :  [False  True]\n"
          ],
          "name": "stdout"
        }
      ]
    },
    {
      "cell_type": "code",
      "metadata": {
        "id": "LHC88xT87kZ1",
        "outputId": "8109d883-838e-480a-f4bf-ef74d76b6837",
        "colab": {
          "base_uri": "https://localhost:8080/"
        }
      },
      "source": [
        "d  = np.greater(a, b) \n",
        "print(\"Comparing float with int using  .greater() : \", d) "
      ],
      "execution_count": null,
      "outputs": [
        {
          "output_type": "stream",
          "text": [
            "Comparing float with int using  .greater() :  [ True False]\n"
          ],
          "name": "stdout"
        }
      ]
    },
    {
      "cell_type": "code",
      "metadata": {
        "id": "79Rj3w-M7mzF",
        "outputId": "6071134a-57e8-45c3-d514-8703f0fc1003",
        "colab": {
          "base_uri": "https://localhost:8080/"
        }
      },
      "source": [
        "d  = np.less_equal(a, b) \n",
        "print(\"Comparing float with int using  .less_equal() : \", d)"
      ],
      "execution_count": null,
      "outputs": [
        {
          "output_type": "stream",
          "text": [
            "Comparing float with int using  .less_equal() :  [False  True]\n"
          ],
          "name": "stdout"
        }
      ]
    },
    {
      "cell_type": "code",
      "metadata": {
        "id": "VChdKkZM7pVi",
        "outputId": "e7ce09c1-f607-4013-8774-35d1e3c458fc",
        "colab": {
          "base_uri": "https://localhost:8080/"
        }
      },
      "source": [
        "d  = np.greater_equal(a, b) \n",
        "print(\"Comparing float with int using  .greater_equal() : \", d)\n"
      ],
      "execution_count": null,
      "outputs": [
        {
          "output_type": "stream",
          "text": [
            "Comparing float with int using  .greater_equal() :  [ True False]\n"
          ],
          "name": "stdout"
        }
      ]
    },
    {
      "cell_type": "markdown",
      "metadata": {
        "id": "SoEyDjle7ysv"
      },
      "source": [
        "##Q16: Write a program that shows usage of following NumPy library vector functions.\n",
        "#a) arrange() b) reshape() c) linspace() d) randint() e) dot()\n"
      ]
    },
    {
      "cell_type": "code",
      "metadata": {
        "id": "mtOnWnqC78L4"
      },
      "source": [
        "from numpy import random\n",
        "p = [[1, 1], [2, 1]]\n",
        "q = [[1, 3], [0, 4]]"
      ],
      "execution_count": null,
      "outputs": []
    },
    {
      "cell_type": "code",
      "metadata": {
        "id": "5qNdzzPU8Agk",
        "outputId": "88c8f7ab-d7ae-49cc-bcde-0c635b5f0afe",
        "colab": {
          "base_uri": "https://localhost:8080/"
        }
      },
      "source": [
        "arr = np.arange(10,100,5,int)  \n",
        "print(\"The array over the given range is \",arr)"
      ],
      "execution_count": null,
      "outputs": [
        {
          "output_type": "stream",
          "text": [
            "The array over the given range is  [10 15 20 25 30 35 40 45 50 55 60 65 70 75 80 85 90 95]\n"
          ],
          "name": "stdout"
        }
      ]
    },
    {
      "cell_type": "code",
      "metadata": {
        "id": "iv9iKi_l8Gzg",
        "outputId": "ed88a0a4-156e-4f79-d737-6c37cbff702d",
        "colab": {
          "base_uri": "https://localhost:8080/"
        }
      },
      "source": [
        "arr = np.array([1, 2, 3, 4, 5, 6, 7, 8, 9, 10, 11, 12])\n",
        "newarr = arr.reshape(4, 3)\n",
        "print(newarr)"
      ],
      "execution_count": null,
      "outputs": [
        {
          "output_type": "stream",
          "text": [
            "[[ 1  2  3]\n",
            " [ 4  5  6]\n",
            " [ 7  8  9]\n",
            " [10 11 12]]\n"
          ],
          "name": "stdout"
        }
      ]
    },
    {
      "cell_type": "code",
      "metadata": {
        "id": "26te8baN8KUY",
        "outputId": "c7f062f1-8820-43b8-87f0-0a8d11a0e23a",
        "colab": {
          "base_uri": "https://localhost:8080/"
        }
      },
      "source": [
        "arr = np.linspace(10, 20, 5)  \n",
        "print(\"The array over the given range is \",arr)"
      ],
      "execution_count": null,
      "outputs": [
        {
          "output_type": "stream",
          "text": [
            "The array over the given range is  [10.  12.5 15.  17.5 20. ]\n"
          ],
          "name": "stdout"
        }
      ]
    },
    {
      "cell_type": "code",
      "metadata": {
        "id": "txRO-n0b8Mp2",
        "outputId": "c9a3533f-50dd-4e2e-f8cf-6439a9cc7ca9",
        "colab": {
          "base_uri": "https://localhost:8080/"
        }
      },
      "source": [
        "x = random.randint(100)\n",
        "print(x)\n",
        "y = random.randint(100, size=(5))\n",
        "print(y)\n",
        "z = random.randint(100, size=(3, 5))\n",
        "print(z)"
      ],
      "execution_count": null,
      "outputs": [
        {
          "output_type": "stream",
          "text": [
            "17\n",
            "[40 95 79 19 66]\n",
            "[[19 72 29 30  7]\n",
            " [62 22 30  7 15]\n",
            " [75 33 57 71 29]]\n"
          ],
          "name": "stdout"
        }
      ]
    },
    {
      "cell_type": "code",
      "metadata": {
        "id": "XwrpddsQ8P_R",
        "outputId": "7204f05c-5d7f-4005-f3f9-0db86d45399e",
        "colab": {
          "base_uri": "https://localhost:8080/"
        }
      },
      "source": [
        "print(\"original matrix:\")\n",
        "print(p)\n",
        "print(q)\n",
        "result1 = np.dot(p, q)\n",
        "print(\"Result of the said matrix multiplication:\")\n",
        "print(result1)"
      ],
      "execution_count": null,
      "outputs": [
        {
          "output_type": "stream",
          "text": [
            "original matrix:\n",
            "[[1, 1], [2, 1]]\n",
            "[[1, 3], [0, 4]]\n",
            "Result of the said matrix multiplication:\n",
            "[[ 1  7]\n",
            " [ 2 10]]\n"
          ],
          "name": "stdout"
        }
      ]
    },
    {
      "cell_type": "markdown",
      "metadata": {
        "id": "SC5grvYO8Ydg"
      },
      "source": [
        "##Q17: Write a program to display below plot using matplotlib library \n",
        "###    For Values of X:[1,2,3,...,49], Values of Y (twice of X):[2,4,6,,...,] \n"
      ]
    },
    {
      "cell_type": "code",
      "metadata": {
        "id": "gdltaxoD8fa1",
        "outputId": "8e7c227d-b6fe-471a-f74e-6fcaa66a2a5f",
        "colab": {
          "base_uri": "https://localhost:8080/",
          "height": 295
        }
      },
      "source": [
        "import matplotlib.pyplot as plt\n",
        "X = range(1, 49)\n",
        "Y = [value * 2 for value in X]\n",
        "plt.plot(X, Y)\n",
        "plt.xlabel('x - axis')\n",
        "plt.ylabel('y - axis')\n",
        "plt.title('line : y = 2x')\n",
        "plt.show()"
      ],
      "execution_count": null,
      "outputs": [
        {
          "output_type": "display_data",
          "data": {
            "image/png": "[encoded data removed]",
            "text/plain": [
              "<Figure size 432x288 with 1 Axes>"
            ]
          },
          "metadata": {
            "tags": [],
            "needs_background": "light"
          }
        }
      ]
    },
    {
      "cell_type": "markdown",
      "metadata": {
        "id": "dj-54hCA80ym"
      },
      "source": [
        "##Q18: Write a program to display below plot using matplotlib library\n",
        "For the point values\n",
        "x1 = [10,20,30], y1 = [20,40,10]\n",
        "x2 = [10,20,30], y2 = [40,10,30]\n"
      ]
    },
    {
      "cell_type": "code",
      "metadata": {
        "id": "_ejtHlTk9BDf",
        "outputId": "6f664220-4da6-4ebd-a322-c2c77f2c0dd6",
        "colab": {
          "base_uri": "https://localhost:8080/",
          "height": 295
        }
      },
      "source": [
        "X1 = [10,20,30]\n",
        "Y1 = [20,40,10]\n",
        "Y2 = [40,10,30]\n",
        "\n",
        "plt.plot(X1, Y1, color='blue')\n",
        "plt.plot(X1, Y2, color='red')\n",
        "\n",
        "plt.xlabel('x - axis')\n",
        "plt.ylabel('y - axis')\n",
        "\n",
        "plt.title('(X1,Y1)= Blue, (X2,Y2)=Red')\n",
        "\n",
        "plt.show()"
      ],
      "execution_count": null,
      "outputs": [
        {
          "output_type": "display_data",
          "data": {
            "image/png": "[encoded data removed]",
            "text/plain": [
              "<Figure size 432x288 with 1 Axes>"
            ]
          },
          "metadata": {
            "tags": [],
            "needs_background": "light"
          }
        }
      ]
    },
    {
      "cell_type": "markdown",
      "metadata": {
        "id": "hofMTxZk9cvR"
      },
      "source": [
        "##Q19: Write a program to display below bar plot using matplotlib library\n",
        "For value \n",
        "Languages = ['Java', 'Python', 'PHP', 'JavaScript', 'C#', 'C++']\n",
        "popularity = [22.2, 17.6, 8.8, 8, 7.7, 6.7]\n"
      ]
    },
    {
      "cell_type": "code",
      "metadata": {
        "id": "9xWetgwi9ktg",
        "outputId": "79424743-9159-48ce-e871-507b2ea56bc3",
        "colab": {
          "base_uri": "https://localhost:8080/",
          "height": 295
        }
      },
      "source": [
        "x = ['Java', 'Python', 'PHP', 'JavaScript', 'C#', 'C++']\n",
        "popularity = [22.2, 17.6, 8.8, 8, 7.7, 6.7]\n",
        "\n",
        "x_pos = [i for i, _ in enumerate(x)]\n",
        "plt.bar(x_pos, popularity, color=(0.4, 0.6, 0.8, 1.0), edgecolor='blue')\n",
        "\n",
        "\n",
        "plt.xlabel(\"Languages\")\n",
        "plt.ylabel(\"Popularity\")\n",
        "\n",
        "plt.title(\"PopularitY of Programming Language\")\n",
        "\n",
        "plt.xticks(x_pos, x)\n",
        "\n",
        "plt.minorticks_on()\n",
        "plt.grid(which='major', linestyle='-', linewidth='0.5', color='blue')\n",
        "\n",
        "plt.grid(which='minor', linestyle=':', linewidth='0.5', color='black')\n",
        "\n",
        "plt.show()"
      ],
      "execution_count": null,
      "outputs": [
        {
          "output_type": "display_data",
          "data": {
            "image/png": "[encoded data removed]",
            "text/plain": [
              "<Figure size 432x288 with 1 Axes>"
            ]
          },
          "metadata": {
            "tags": [],
            "needs_background": "light"
          }
        }
      ]
    },
    {
      "cell_type": "markdown",
      "metadata": {
        "id": "vxmJCAvh96qJ"
      },
      "source": [
        "##Q20: Write a program to display below bar plot using matplotlib library\n",
        "###For below data display pie plot\n",
        "###languages = [‘C’, 'C++', 'Java', 'Python', 'PHP']\n",
        "###popuratity = [17.6, 8.8, 8, 7.7, 6.7]\n",
        "###colors = [\"#1f77b4\", \"#ff7f0e\", \"#2ca02c\", \"#d62728\", \"#9467bd\", \"#8c564b\"]\n"
      ]
    },
    {
      "cell_type": "code",
      "metadata": {
        "id": "VaDPTMEV-Il8",
        "outputId": "b6f4f9be-f662-4c0f-8eec-572da543f99c",
        "colab": {
          "base_uri": "https://localhost:8080/",
          "height": 252
        }
      },
      "source": [
        "languages = 'Java', 'Python', 'PHP', 'JavaScript', 'C#', 'C++'\n",
        "popuratity = [22.2, 17.6, 8.8, 8, 7.7, 6.7]\n",
        "colors = [\"#1f77b7\", \"#af7f0e\", \"#4ca02c\", \"#d62628\", \"#9367bd\", \"#9c564b\"]\n",
        "\n",
        "\n",
        "explode = (0.1, 0, 0, 0,0,0)  \n",
        "\n",
        "plt.pie(popuratity, explode=explode, labels=languages, colors=colors,\n",
        "\n",
        "autopct='%1.1f%%', shadow=True, startangle=140)\n",
        "\n",
        "plt.axis('equal')\n",
        "\n",
        "plt.show()"
      ],
      "execution_count": null,
      "outputs": [
        {
          "output_type": "display_data",
          "data": {
            "image/png": "[encoded data removed]",
            "text/plain": [
              "<Figure size 432x288 with 1 Axes>"
            ]
          },
          "metadata": {
            "tags": []
          }
        }
      ]
    },
    {
      "cell_type": "markdown",
      "metadata": {
        "id": "5WQRmOeX-OSC"
      },
      "source": [
        "##Q21: Write a program to display below bar plot using matplotlib library\n",
        "For 200 random points for both X and Y display scatter plot.\n"
      ]
    },
    {
      "cell_type": "code",
      "metadata": {
        "id": "cvxMrWeD-eXO",
        "outputId": "82ba5ebf-f1d1-4f33-a27f-b1229a6b2857",
        "colab": {
          "base_uri": "https://localhost:8080/",
          "height": 279
        }
      },
      "source": [
        "from pylab import randn\n",
        "X = randn(200)\n",
        "Y = randn(200)\n",
        "plt.scatter(X,Y, color='blue')\n",
        "plt.xlabel(\"X\")\n",
        "plt.ylabel(\"Y\")\n",
        "\n",
        "plt.show()"
      ],
      "execution_count": null,
      "outputs": [
        {
          "output_type": "display_data",
          "data": {
            "image/png": "[encoded data removed]",
            "text/plain": [
              "<Figure size 432x288 with 1 Axes>"
            ]
          },
          "metadata": {
            "tags": [],
            "needs_background": "light"
          }
        }
      ]
    },
    {
      "cell_type": "code",
      "metadata": {
        "id": "cJ3JFKRq-gpL"
      },
      "source": [
        ""
      ],
      "execution_count": null,
      "outputs": []
    }
  ]
}